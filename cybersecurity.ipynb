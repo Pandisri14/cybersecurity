{
  "nbformat": 4,
  "nbformat_minor": 0,
  "metadata": {
    "colab": {
      "provenance": []
    },
    "kernelspec": {
      "name": "python3",
      "display_name": "Python 3"
    },
    "language_info": {
      "name": "python"
    }
  },
  "cells": [
    {
      "cell_type": "code",
      "source": [
        "from sklearn.naive_bayes import GaussianNB\n",
        "from sklearn.linear_model import LogisticRegression\n",
        "from sklearn.tree import DecisionTreeClassifier\n",
        "from xgboost import XGBClassifier\n",
        "from lightgbm import LGBMClassifier\n",
        "from sklearn.metrics import accuracy_score, classification_report, confusion_matrix"
      ],
      "metadata": {
        "id": "n-3Vedebl5kt"
      },
      "execution_count": 36,
      "outputs": []
    },
    {
      "cell_type": "code",
      "source": [
        "from google.colab import drive\n",
        "drive.mount('/content/drive')"
      ],
      "metadata": {
        "colab": {
          "base_uri": "https://localhost:8080/"
        },
        "id": "OTtT9qcDRSGx",
        "outputId": "9061c9a6-5db8-44bc-8b5a-b34ca6359756"
      },
      "execution_count": 1,
      "outputs": [
        {
          "output_type": "stream",
          "name": "stdout",
          "text": [
            "Drive already mounted at /content/drive; to attempt to forcibly remount, call drive.mount(\"/content/drive\", force_remount=True).\n"
          ]
        }
      ]
    },
    {
      "cell_type": "code",
      "source": [
        "import pandas as pd\n",
        "df=pd.read_csv(\"/content/drive/MyDrive/new_train_sample.csv\")\n",
        "df.head()"
      ],
      "metadata": {
        "id": "gy9Up_L-omAj",
        "colab": {
          "base_uri": "https://localhost:8080/",
          "height": 359
        },
        "outputId": "a8d9390b-b60e-4327-f023-76b1563cbd3e"
      },
      "execution_count": 24,
      "outputs": [
        {
          "output_type": "execute_result",
          "data": {
            "text/plain": [
              "   Unnamed: 0             Id  OrgId  IncidentId  AlertId  \\\n",
              "0     5172780  1709396985476     26       18583   687462   \n",
              "1     8470561   927712939180     33        5065     3990   \n",
              "2     5897583  1090921697002    201      150787   807590   \n",
              "3     3288552  1434519079555    204      108287    28575   \n",
              "4     4060961  1005022347708     54      528202  1458226   \n",
              "\n",
              "                  Timestamp  DetectorId  AlertTitle            Category  \\\n",
              "0  2024-06-06T05:56:47.000Z          31         813             Malware   \n",
              "1  2024-06-03T10:45:09.000Z          38          25              Impact   \n",
              "2  2024-06-13T03:36:40.000Z         419         444           Execution   \n",
              "3  2024-06-08T16:54:57.000Z          44        1233  SuspiciousActivity   \n",
              "4  2024-06-09T02:48:01.000Z         102       58829        Exfiltration   \n",
              "\n",
              "                                     MitreTechniques  ... ResourceType  \\\n",
              "0                                                NaN  ...          NaN   \n",
              "1                                                NaN  ...          NaN   \n",
              "2  T1047;T1059;T1053;T1569;T1059.001;T1053.002;T1...  ...          NaN   \n",
              "3                                                NaN  ...          NaN   \n",
              "4                                                NaN  ...          NaN   \n",
              "\n",
              "         Roles OSFamily OSVersion AntispamDirection  SuspicionLevel  \\\n",
              "0          NaN        5        66               NaN      Suspicious   \n",
              "1          NaN        5        66               NaN             NaN   \n",
              "2  Destination        5        66               NaN             NaN   \n",
              "3          NaN        5        66               NaN      Suspicious   \n",
              "4          NaN        5        66               NaN             NaN   \n",
              "\n",
              "   LastVerdict  CountryCode  State   City  \n",
              "0    Malicious          242   1445  10630  \n",
              "1          NaN          242   1445  10630  \n",
              "2          NaN          242   1445  10630  \n",
              "3   Suspicious          242   1445  10630  \n",
              "4          NaN          242   1445  10630  \n",
              "\n",
              "[5 rows x 46 columns]"
            ],
            "text/html": [
              "\n",
              "  <div id=\"df-4422a625-643e-4321-8373-8be58b781df0\" class=\"colab-df-container\">\n",
              "    <div>\n",
              "<style scoped>\n",
              "    .dataframe tbody tr th:only-of-type {\n",
              "        vertical-align: middle;\n",
              "    }\n",
              "\n",
              "    .dataframe tbody tr th {\n",
              "        vertical-align: top;\n",
              "    }\n",
              "\n",
              "    .dataframe thead th {\n",
              "        text-align: right;\n",
              "    }\n",
              "</style>\n",
              "<table border=\"1\" class=\"dataframe\">\n",
              "  <thead>\n",
              "    <tr style=\"text-align: right;\">\n",
              "      <th></th>\n",
              "      <th>Unnamed: 0</th>\n",
              "      <th>Id</th>\n",
              "      <th>OrgId</th>\n",
              "      <th>IncidentId</th>\n",
              "      <th>AlertId</th>\n",
              "      <th>Timestamp</th>\n",
              "      <th>DetectorId</th>\n",
              "      <th>AlertTitle</th>\n",
              "      <th>Category</th>\n",
              "      <th>MitreTechniques</th>\n",
              "      <th>...</th>\n",
              "      <th>ResourceType</th>\n",
              "      <th>Roles</th>\n",
              "      <th>OSFamily</th>\n",
              "      <th>OSVersion</th>\n",
              "      <th>AntispamDirection</th>\n",
              "      <th>SuspicionLevel</th>\n",
              "      <th>LastVerdict</th>\n",
              "      <th>CountryCode</th>\n",
              "      <th>State</th>\n",
              "      <th>City</th>\n",
              "    </tr>\n",
              "  </thead>\n",
              "  <tbody>\n",
              "    <tr>\n",
              "      <th>0</th>\n",
              "      <td>5172780</td>\n",
              "      <td>1709396985476</td>\n",
              "      <td>26</td>\n",
              "      <td>18583</td>\n",
              "      <td>687462</td>\n",
              "      <td>2024-06-06T05:56:47.000Z</td>\n",
              "      <td>31</td>\n",
              "      <td>813</td>\n",
              "      <td>Malware</td>\n",
              "      <td>NaN</td>\n",
              "      <td>...</td>\n",
              "      <td>NaN</td>\n",
              "      <td>NaN</td>\n",
              "      <td>5</td>\n",
              "      <td>66</td>\n",
              "      <td>NaN</td>\n",
              "      <td>Suspicious</td>\n",
              "      <td>Malicious</td>\n",
              "      <td>242</td>\n",
              "      <td>1445</td>\n",
              "      <td>10630</td>\n",
              "    </tr>\n",
              "    <tr>\n",
              "      <th>1</th>\n",
              "      <td>8470561</td>\n",
              "      <td>927712939180</td>\n",
              "      <td>33</td>\n",
              "      <td>5065</td>\n",
              "      <td>3990</td>\n",
              "      <td>2024-06-03T10:45:09.000Z</td>\n",
              "      <td>38</td>\n",
              "      <td>25</td>\n",
              "      <td>Impact</td>\n",
              "      <td>NaN</td>\n",
              "      <td>...</td>\n",
              "      <td>NaN</td>\n",
              "      <td>NaN</td>\n",
              "      <td>5</td>\n",
              "      <td>66</td>\n",
              "      <td>NaN</td>\n",
              "      <td>NaN</td>\n",
              "      <td>NaN</td>\n",
              "      <td>242</td>\n",
              "      <td>1445</td>\n",
              "      <td>10630</td>\n",
              "    </tr>\n",
              "    <tr>\n",
              "      <th>2</th>\n",
              "      <td>5897583</td>\n",
              "      <td>1090921697002</td>\n",
              "      <td>201</td>\n",
              "      <td>150787</td>\n",
              "      <td>807590</td>\n",
              "      <td>2024-06-13T03:36:40.000Z</td>\n",
              "      <td>419</td>\n",
              "      <td>444</td>\n",
              "      <td>Execution</td>\n",
              "      <td>T1047;T1059;T1053;T1569;T1059.001;T1053.002;T1...</td>\n",
              "      <td>...</td>\n",
              "      <td>NaN</td>\n",
              "      <td>Destination</td>\n",
              "      <td>5</td>\n",
              "      <td>66</td>\n",
              "      <td>NaN</td>\n",
              "      <td>NaN</td>\n",
              "      <td>NaN</td>\n",
              "      <td>242</td>\n",
              "      <td>1445</td>\n",
              "      <td>10630</td>\n",
              "    </tr>\n",
              "    <tr>\n",
              "      <th>3</th>\n",
              "      <td>3288552</td>\n",
              "      <td>1434519079555</td>\n",
              "      <td>204</td>\n",
              "      <td>108287</td>\n",
              "      <td>28575</td>\n",
              "      <td>2024-06-08T16:54:57.000Z</td>\n",
              "      <td>44</td>\n",
              "      <td>1233</td>\n",
              "      <td>SuspiciousActivity</td>\n",
              "      <td>NaN</td>\n",
              "      <td>...</td>\n",
              "      <td>NaN</td>\n",
              "      <td>NaN</td>\n",
              "      <td>5</td>\n",
              "      <td>66</td>\n",
              "      <td>NaN</td>\n",
              "      <td>Suspicious</td>\n",
              "      <td>Suspicious</td>\n",
              "      <td>242</td>\n",
              "      <td>1445</td>\n",
              "      <td>10630</td>\n",
              "    </tr>\n",
              "    <tr>\n",
              "      <th>4</th>\n",
              "      <td>4060961</td>\n",
              "      <td>1005022347708</td>\n",
              "      <td>54</td>\n",
              "      <td>528202</td>\n",
              "      <td>1458226</td>\n",
              "      <td>2024-06-09T02:48:01.000Z</td>\n",
              "      <td>102</td>\n",
              "      <td>58829</td>\n",
              "      <td>Exfiltration</td>\n",
              "      <td>NaN</td>\n",
              "      <td>...</td>\n",
              "      <td>NaN</td>\n",
              "      <td>NaN</td>\n",
              "      <td>5</td>\n",
              "      <td>66</td>\n",
              "      <td>NaN</td>\n",
              "      <td>NaN</td>\n",
              "      <td>NaN</td>\n",
              "      <td>242</td>\n",
              "      <td>1445</td>\n",
              "      <td>10630</td>\n",
              "    </tr>\n",
              "  </tbody>\n",
              "</table>\n",
              "<p>5 rows × 46 columns</p>\n",
              "</div>\n",
              "    <div class=\"colab-df-buttons\">\n",
              "\n",
              "  <div class=\"colab-df-container\">\n",
              "    <button class=\"colab-df-convert\" onclick=\"convertToInteractive('df-4422a625-643e-4321-8373-8be58b781df0')\"\n",
              "            title=\"Convert this dataframe to an interactive table.\"\n",
              "            style=\"display:none;\">\n",
              "\n",
              "  <svg xmlns=\"http://www.w3.org/2000/svg\" height=\"24px\" viewBox=\"0 -960 960 960\">\n",
              "    <path d=\"M120-120v-720h720v720H120Zm60-500h600v-160H180v160Zm220 220h160v-160H400v160Zm0 220h160v-160H400v160ZM180-400h160v-160H180v160Zm440 0h160v-160H620v160ZM180-180h160v-160H180v160Zm440 0h160v-160H620v160Z\"/>\n",
              "  </svg>\n",
              "    </button>\n",
              "\n",
              "  <style>\n",
              "    .colab-df-container {\n",
              "      display:flex;\n",
              "      gap: 12px;\n",
              "    }\n",
              "\n",
              "    .colab-df-convert {\n",
              "      background-color: #E8F0FE;\n",
              "      border: none;\n",
              "      border-radius: 50%;\n",
              "      cursor: pointer;\n",
              "      display: none;\n",
              "      fill: #1967D2;\n",
              "      height: 32px;\n",
              "      padding: 0 0 0 0;\n",
              "      width: 32px;\n",
              "    }\n",
              "\n",
              "    .colab-df-convert:hover {\n",
              "      background-color: #E2EBFA;\n",
              "      box-shadow: 0px 1px 2px rgba(60, 64, 67, 0.3), 0px 1px 3px 1px rgba(60, 64, 67, 0.15);\n",
              "      fill: #174EA6;\n",
              "    }\n",
              "\n",
              "    .colab-df-buttons div {\n",
              "      margin-bottom: 4px;\n",
              "    }\n",
              "\n",
              "    [theme=dark] .colab-df-convert {\n",
              "      background-color: #3B4455;\n",
              "      fill: #D2E3FC;\n",
              "    }\n",
              "\n",
              "    [theme=dark] .colab-df-convert:hover {\n",
              "      background-color: #434B5C;\n",
              "      box-shadow: 0px 1px 3px 1px rgba(0, 0, 0, 0.15);\n",
              "      filter: drop-shadow(0px 1px 2px rgba(0, 0, 0, 0.3));\n",
              "      fill: #FFFFFF;\n",
              "    }\n",
              "  </style>\n",
              "\n",
              "    <script>\n",
              "      const buttonEl =\n",
              "        document.querySelector('#df-4422a625-643e-4321-8373-8be58b781df0 button.colab-df-convert');\n",
              "      buttonEl.style.display =\n",
              "        google.colab.kernel.accessAllowed ? 'block' : 'none';\n",
              "\n",
              "      async function convertToInteractive(key) {\n",
              "        const element = document.querySelector('#df-4422a625-643e-4321-8373-8be58b781df0');\n",
              "        const dataTable =\n",
              "          await google.colab.kernel.invokeFunction('convertToInteractive',\n",
              "                                                    [key], {});\n",
              "        if (!dataTable) return;\n",
              "\n",
              "        const docLinkHtml = 'Like what you see? Visit the ' +\n",
              "          '<a target=\"_blank\" href=https://colab.research.google.com/notebooks/data_table.ipynb>data table notebook</a>'\n",
              "          + ' to learn more about interactive tables.';\n",
              "        element.innerHTML = '';\n",
              "        dataTable['output_type'] = 'display_data';\n",
              "        await google.colab.output.renderOutput(dataTable, element);\n",
              "        const docLink = document.createElement('div');\n",
              "        docLink.innerHTML = docLinkHtml;\n",
              "        element.appendChild(docLink);\n",
              "      }\n",
              "    </script>\n",
              "  </div>\n",
              "\n",
              "\n",
              "<div id=\"df-b748567b-d9cb-4aaa-aabd-bfc329dd2fa3\">\n",
              "  <button class=\"colab-df-quickchart\" onclick=\"quickchart('df-b748567b-d9cb-4aaa-aabd-bfc329dd2fa3')\"\n",
              "            title=\"Suggest charts\"\n",
              "            style=\"display:none;\">\n",
              "\n",
              "<svg xmlns=\"http://www.w3.org/2000/svg\" height=\"24px\"viewBox=\"0 0 24 24\"\n",
              "     width=\"24px\">\n",
              "    <g>\n",
              "        <path d=\"M19 3H5c-1.1 0-2 .9-2 2v14c0 1.1.9 2 2 2h14c1.1 0 2-.9 2-2V5c0-1.1-.9-2-2-2zM9 17H7v-7h2v7zm4 0h-2V7h2v10zm4 0h-2v-4h2v4z\"/>\n",
              "    </g>\n",
              "</svg>\n",
              "  </button>\n",
              "\n",
              "<style>\n",
              "  .colab-df-quickchart {\n",
              "      --bg-color: #E8F0FE;\n",
              "      --fill-color: #1967D2;\n",
              "      --hover-bg-color: #E2EBFA;\n",
              "      --hover-fill-color: #174EA6;\n",
              "      --disabled-fill-color: #AAA;\n",
              "      --disabled-bg-color: #DDD;\n",
              "  }\n",
              "\n",
              "  [theme=dark] .colab-df-quickchart {\n",
              "      --bg-color: #3B4455;\n",
              "      --fill-color: #D2E3FC;\n",
              "      --hover-bg-color: #434B5C;\n",
              "      --hover-fill-color: #FFFFFF;\n",
              "      --disabled-bg-color: #3B4455;\n",
              "      --disabled-fill-color: #666;\n",
              "  }\n",
              "\n",
              "  .colab-df-quickchart {\n",
              "    background-color: var(--bg-color);\n",
              "    border: none;\n",
              "    border-radius: 50%;\n",
              "    cursor: pointer;\n",
              "    display: none;\n",
              "    fill: var(--fill-color);\n",
              "    height: 32px;\n",
              "    padding: 0;\n",
              "    width: 32px;\n",
              "  }\n",
              "\n",
              "  .colab-df-quickchart:hover {\n",
              "    background-color: var(--hover-bg-color);\n",
              "    box-shadow: 0 1px 2px rgba(60, 64, 67, 0.3), 0 1px 3px 1px rgba(60, 64, 67, 0.15);\n",
              "    fill: var(--button-hover-fill-color);\n",
              "  }\n",
              "\n",
              "  .colab-df-quickchart-complete:disabled,\n",
              "  .colab-df-quickchart-complete:disabled:hover {\n",
              "    background-color: var(--disabled-bg-color);\n",
              "    fill: var(--disabled-fill-color);\n",
              "    box-shadow: none;\n",
              "  }\n",
              "\n",
              "  .colab-df-spinner {\n",
              "    border: 2px solid var(--fill-color);\n",
              "    border-color: transparent;\n",
              "    border-bottom-color: var(--fill-color);\n",
              "    animation:\n",
              "      spin 1s steps(1) infinite;\n",
              "  }\n",
              "\n",
              "  @keyframes spin {\n",
              "    0% {\n",
              "      border-color: transparent;\n",
              "      border-bottom-color: var(--fill-color);\n",
              "      border-left-color: var(--fill-color);\n",
              "    }\n",
              "    20% {\n",
              "      border-color: transparent;\n",
              "      border-left-color: var(--fill-color);\n",
              "      border-top-color: var(--fill-color);\n",
              "    }\n",
              "    30% {\n",
              "      border-color: transparent;\n",
              "      border-left-color: var(--fill-color);\n",
              "      border-top-color: var(--fill-color);\n",
              "      border-right-color: var(--fill-color);\n",
              "    }\n",
              "    40% {\n",
              "      border-color: transparent;\n",
              "      border-right-color: var(--fill-color);\n",
              "      border-top-color: var(--fill-color);\n",
              "    }\n",
              "    60% {\n",
              "      border-color: transparent;\n",
              "      border-right-color: var(--fill-color);\n",
              "    }\n",
              "    80% {\n",
              "      border-color: transparent;\n",
              "      border-right-color: var(--fill-color);\n",
              "      border-bottom-color: var(--fill-color);\n",
              "    }\n",
              "    90% {\n",
              "      border-color: transparent;\n",
              "      border-bottom-color: var(--fill-color);\n",
              "    }\n",
              "  }\n",
              "</style>\n",
              "\n",
              "  <script>\n",
              "    async function quickchart(key) {\n",
              "      const quickchartButtonEl =\n",
              "        document.querySelector('#' + key + ' button');\n",
              "      quickchartButtonEl.disabled = true;  // To prevent multiple clicks.\n",
              "      quickchartButtonEl.classList.add('colab-df-spinner');\n",
              "      try {\n",
              "        const charts = await google.colab.kernel.invokeFunction(\n",
              "            'suggestCharts', [key], {});\n",
              "      } catch (error) {\n",
              "        console.error('Error during call to suggestCharts:', error);\n",
              "      }\n",
              "      quickchartButtonEl.classList.remove('colab-df-spinner');\n",
              "      quickchartButtonEl.classList.add('colab-df-quickchart-complete');\n",
              "    }\n",
              "    (() => {\n",
              "      let quickchartButtonEl =\n",
              "        document.querySelector('#df-b748567b-d9cb-4aaa-aabd-bfc329dd2fa3 button');\n",
              "      quickchartButtonEl.style.display =\n",
              "        google.colab.kernel.accessAllowed ? 'block' : 'none';\n",
              "    })();\n",
              "  </script>\n",
              "</div>\n",
              "\n",
              "    </div>\n",
              "  </div>\n"
            ],
            "application/vnd.google.colaboratory.intrinsic+json": {
              "type": "dataframe",
              "variable_name": "df"
            }
          },
          "metadata": {},
          "execution_count": 24
        }
      ]
    },
    {
      "cell_type": "code",
      "source": [
        "df.shape"
      ],
      "metadata": {
        "colab": {
          "base_uri": "https://localhost:8080/"
        },
        "id": "vo4IWDVmovqT",
        "outputId": "93455a09-36a2-48a1-dac1-07798be2d46c"
      },
      "execution_count": null,
      "outputs": [
        {
          "output_type": "execute_result",
          "data": {
            "text/plain": [
              "(4758418, 46)"
            ]
          },
          "metadata": {},
          "execution_count": 5
        }
      ]
    },
    {
      "cell_type": "code",
      "source": [
        "df.info()"
      ],
      "metadata": {
        "colab": {
          "base_uri": "https://localhost:8080/"
        },
        "id": "tWzhqOEXp8sT",
        "outputId": "7b3385a5-1ec2-468d-c16b-883068e215b8"
      },
      "execution_count": null,
      "outputs": [
        {
          "output_type": "stream",
          "name": "stdout",
          "text": [
            "<class 'pandas.core.frame.DataFrame'>\n",
            "RangeIndex: 4758418 entries, 0 to 4758417\n",
            "Data columns (total 46 columns):\n",
            " #   Column              Dtype  \n",
            "---  ------              -----  \n",
            " 0   Unnamed: 0          int64  \n",
            " 1   Id                  int64  \n",
            " 2   OrgId               int64  \n",
            " 3   IncidentId          int64  \n",
            " 4   AlertId             int64  \n",
            " 5   Timestamp           object \n",
            " 6   DetectorId          int64  \n",
            " 7   AlertTitle          int64  \n",
            " 8   Category            object \n",
            " 9   MitreTechniques     object \n",
            " 10  IncidentGrade       object \n",
            " 11  ActionGrouped       object \n",
            " 12  ActionGranular      object \n",
            " 13  EntityType          object \n",
            " 14  EvidenceRole        object \n",
            " 15  DeviceId            int64  \n",
            " 16  Sha256              int64  \n",
            " 17  IpAddress           int64  \n",
            " 18  Url                 int64  \n",
            " 19  AccountSid          int64  \n",
            " 20  AccountUpn          int64  \n",
            " 21  AccountObjectId     int64  \n",
            " 22  AccountName         int64  \n",
            " 23  DeviceName          int64  \n",
            " 24  NetworkMessageId    int64  \n",
            " 25  EmailClusterId      float64\n",
            " 26  RegistryKey         int64  \n",
            " 27  RegistryValueName   int64  \n",
            " 28  RegistryValueData   int64  \n",
            " 29  ApplicationId       int64  \n",
            " 30  ApplicationName     int64  \n",
            " 31  OAuthApplicationId  int64  \n",
            " 32  ThreatFamily        object \n",
            " 33  FileName            int64  \n",
            " 34  FolderPath          int64  \n",
            " 35  ResourceIdName      int64  \n",
            " 36  ResourceType        object \n",
            " 37  Roles               object \n",
            " 38  OSFamily            int64  \n",
            " 39  OSVersion           int64  \n",
            " 40  AntispamDirection   object \n",
            " 41  SuspicionLevel      object \n",
            " 42  LastVerdict         object \n",
            " 43  CountryCode         int64  \n",
            " 44  State               int64  \n",
            " 45  City                int64  \n",
            "dtypes: float64(1), int64(31), object(14)\n",
            "memory usage: 1.6+ GB\n"
          ]
        }
      ]
    },
    {
      "cell_type": "code",
      "source": [
        "missing_percentage = df.isnull().mean() * 100\n",
        "print(missing_percentage[missing_percentage > 50])  # Show columns >50% missing"
      ],
      "metadata": {
        "colab": {
          "base_uri": "https://localhost:8080/"
        },
        "id": "k19I_tN_0xXn",
        "outputId": "92c26d1f-684d-497d-dfa0-d4c963176137"
      },
      "execution_count": 25,
      "outputs": [
        {
          "output_type": "stream",
          "name": "stdout",
          "text": [
            "MitreTechniques      57.437913\n",
            "ActionGrouped        99.407093\n",
            "ActionGranular       99.407093\n",
            "EmailClusterId       98.987542\n",
            "ThreatFamily         99.214445\n",
            "ResourceType         99.925290\n",
            "Roles                97.702997\n",
            "AntispamDirection    98.138625\n",
            "SuspicionLevel       84.842168\n",
            "LastVerdict          76.542687\n",
            "dtype: float64\n"
          ]
        }
      ]
    },
    {
      "cell_type": "code",
      "source": [
        "df.drop([\"Unnamed: 0\",\"MitreTechniques\",\"ActionGrouped\",\"ActionGranular\",\"EmailClusterId\",\"ThreatFamily\",\"ResourceType\",\"Roles\",\"AntispamDirection\",\"SuspicionLevel\",\"LastVerdict\"], axis =1 , inplace = True)\n"
      ],
      "metadata": {
        "id": "ZFsDa_77L773"
      },
      "execution_count": 26,
      "outputs": []
    },
    {
      "cell_type": "code",
      "source": [
        "\n",
        "df.isnull().sum()"
      ],
      "metadata": {
        "colab": {
          "base_uri": "https://localhost:8080/",
          "height": 1000
        },
        "id": "4_vBj2z3NZ0D",
        "outputId": "1c5fb430-07bb-4df0-b2b5-326ca3651ca0"
      },
      "execution_count": null,
      "outputs": [
        {
          "output_type": "execute_result",
          "data": {
            "text/plain": [
              "Id                        0\n",
              "OrgId                     0\n",
              "IncidentId                0\n",
              "AlertId                   0\n",
              "Timestamp                 0\n",
              "DetectorId                0\n",
              "AlertTitle                0\n",
              "Category                  0\n",
              "IncidentGrade         25775\n",
              "EntityType                0\n",
              "EvidenceRole              0\n",
              "DeviceId                  0\n",
              "Sha256                    0\n",
              "IpAddress                 0\n",
              "Url                       0\n",
              "AccountSid                0\n",
              "AccountUpn                0\n",
              "AccountObjectId           0\n",
              "AccountName               0\n",
              "DeviceName                0\n",
              "NetworkMessageId          0\n",
              "RegistryKey               0\n",
              "RegistryValueName         0\n",
              "RegistryValueData         0\n",
              "ApplicationId             0\n",
              "ApplicationName           0\n",
              "OAuthApplicationId        0\n",
              "FileName                  0\n",
              "FolderPath                0\n",
              "ResourceIdName            0\n",
              "OSFamily                  0\n",
              "OSVersion                 0\n",
              "CountryCode               0\n",
              "State                     0\n",
              "City                      0\n",
              "dtype: int64"
            ],
            "text/html": [
              "<div>\n",
              "<style scoped>\n",
              "    .dataframe tbody tr th:only-of-type {\n",
              "        vertical-align: middle;\n",
              "    }\n",
              "\n",
              "    .dataframe tbody tr th {\n",
              "        vertical-align: top;\n",
              "    }\n",
              "\n",
              "    .dataframe thead th {\n",
              "        text-align: right;\n",
              "    }\n",
              "</style>\n",
              "<table border=\"1\" class=\"dataframe\">\n",
              "  <thead>\n",
              "    <tr style=\"text-align: right;\">\n",
              "      <th></th>\n",
              "      <th>0</th>\n",
              "    </tr>\n",
              "  </thead>\n",
              "  <tbody>\n",
              "    <tr>\n",
              "      <th>Id</th>\n",
              "      <td>0</td>\n",
              "    </tr>\n",
              "    <tr>\n",
              "      <th>OrgId</th>\n",
              "      <td>0</td>\n",
              "    </tr>\n",
              "    <tr>\n",
              "      <th>IncidentId</th>\n",
              "      <td>0</td>\n",
              "    </tr>\n",
              "    <tr>\n",
              "      <th>AlertId</th>\n",
              "      <td>0</td>\n",
              "    </tr>\n",
              "    <tr>\n",
              "      <th>Timestamp</th>\n",
              "      <td>0</td>\n",
              "    </tr>\n",
              "    <tr>\n",
              "      <th>DetectorId</th>\n",
              "      <td>0</td>\n",
              "    </tr>\n",
              "    <tr>\n",
              "      <th>AlertTitle</th>\n",
              "      <td>0</td>\n",
              "    </tr>\n",
              "    <tr>\n",
              "      <th>Category</th>\n",
              "      <td>0</td>\n",
              "    </tr>\n",
              "    <tr>\n",
              "      <th>IncidentGrade</th>\n",
              "      <td>25775</td>\n",
              "    </tr>\n",
              "    <tr>\n",
              "      <th>EntityType</th>\n",
              "      <td>0</td>\n",
              "    </tr>\n",
              "    <tr>\n",
              "      <th>EvidenceRole</th>\n",
              "      <td>0</td>\n",
              "    </tr>\n",
              "    <tr>\n",
              "      <th>DeviceId</th>\n",
              "      <td>0</td>\n",
              "    </tr>\n",
              "    <tr>\n",
              "      <th>Sha256</th>\n",
              "      <td>0</td>\n",
              "    </tr>\n",
              "    <tr>\n",
              "      <th>IpAddress</th>\n",
              "      <td>0</td>\n",
              "    </tr>\n",
              "    <tr>\n",
              "      <th>Url</th>\n",
              "      <td>0</td>\n",
              "    </tr>\n",
              "    <tr>\n",
              "      <th>AccountSid</th>\n",
              "      <td>0</td>\n",
              "    </tr>\n",
              "    <tr>\n",
              "      <th>AccountUpn</th>\n",
              "      <td>0</td>\n",
              "    </tr>\n",
              "    <tr>\n",
              "      <th>AccountObjectId</th>\n",
              "      <td>0</td>\n",
              "    </tr>\n",
              "    <tr>\n",
              "      <th>AccountName</th>\n",
              "      <td>0</td>\n",
              "    </tr>\n",
              "    <tr>\n",
              "      <th>DeviceName</th>\n",
              "      <td>0</td>\n",
              "    </tr>\n",
              "    <tr>\n",
              "      <th>NetworkMessageId</th>\n",
              "      <td>0</td>\n",
              "    </tr>\n",
              "    <tr>\n",
              "      <th>RegistryKey</th>\n",
              "      <td>0</td>\n",
              "    </tr>\n",
              "    <tr>\n",
              "      <th>RegistryValueName</th>\n",
              "      <td>0</td>\n",
              "    </tr>\n",
              "    <tr>\n",
              "      <th>RegistryValueData</th>\n",
              "      <td>0</td>\n",
              "    </tr>\n",
              "    <tr>\n",
              "      <th>ApplicationId</th>\n",
              "      <td>0</td>\n",
              "    </tr>\n",
              "    <tr>\n",
              "      <th>ApplicationName</th>\n",
              "      <td>0</td>\n",
              "    </tr>\n",
              "    <tr>\n",
              "      <th>OAuthApplicationId</th>\n",
              "      <td>0</td>\n",
              "    </tr>\n",
              "    <tr>\n",
              "      <th>FileName</th>\n",
              "      <td>0</td>\n",
              "    </tr>\n",
              "    <tr>\n",
              "      <th>FolderPath</th>\n",
              "      <td>0</td>\n",
              "    </tr>\n",
              "    <tr>\n",
              "      <th>ResourceIdName</th>\n",
              "      <td>0</td>\n",
              "    </tr>\n",
              "    <tr>\n",
              "      <th>OSFamily</th>\n",
              "      <td>0</td>\n",
              "    </tr>\n",
              "    <tr>\n",
              "      <th>OSVersion</th>\n",
              "      <td>0</td>\n",
              "    </tr>\n",
              "    <tr>\n",
              "      <th>CountryCode</th>\n",
              "      <td>0</td>\n",
              "    </tr>\n",
              "    <tr>\n",
              "      <th>State</th>\n",
              "      <td>0</td>\n",
              "    </tr>\n",
              "    <tr>\n",
              "      <th>City</th>\n",
              "      <td>0</td>\n",
              "    </tr>\n",
              "  </tbody>\n",
              "</table>\n",
              "</div><br><label><b>dtype:</b> int64</label>"
            ]
          },
          "metadata": {},
          "execution_count": 5
        }
      ]
    },
    {
      "cell_type": "code",
      "source": [
        "\n",
        "df[\"IncidentGrade\"].fillna(df[\"IncidentGrade\"].mode()[0],inplace=True)"
      ],
      "metadata": {
        "id": "WCzNnOnWSh_y",
        "colab": {
          "base_uri": "https://localhost:8080/"
        },
        "outputId": "13d0feb6-a4d8-4773-9d19-19df33896579"
      },
      "execution_count": 27,
      "outputs": [
        {
          "output_type": "stream",
          "name": "stderr",
          "text": [
            "<ipython-input-27-a6e4e701675c>:1: FutureWarning: A value is trying to be set on a copy of a DataFrame or Series through chained assignment using an inplace method.\n",
            "The behavior will change in pandas 3.0. This inplace method will never work because the intermediate object on which we are setting values always behaves as a copy.\n",
            "\n",
            "For example, when doing 'df[col].method(value, inplace=True)', try using 'df.method({col: value}, inplace=True)' or df[col] = df[col].method(value) instead, to perform the operation inplace on the original object.\n",
            "\n",
            "\n",
            "  df[\"IncidentGrade\"].fillna(df[\"IncidentGrade\"].mode()[0],inplace=True)\n"
          ]
        }
      ]
    },
    {
      "cell_type": "code",
      "source": [
        "df.duplicated().sum()"
      ],
      "metadata": {
        "colab": {
          "base_uri": "https://localhost:8080/"
        },
        "id": "NqPDzURRVA-q",
        "outputId": "0adeec95-8799-4fc3-d6a8-3d9f9f95d7ca"
      },
      "execution_count": 28,
      "outputs": [
        {
          "output_type": "execute_result",
          "data": {
            "text/plain": [
              "156194"
            ]
          },
          "metadata": {},
          "execution_count": 28
        }
      ]
    },
    {
      "cell_type": "code",
      "source": [
        "df.drop_duplicates(inplace=True)"
      ],
      "metadata": {
        "id": "fiAf0j6lXCog"
      },
      "execution_count": 29,
      "outputs": []
    },
    {
      "cell_type": "code",
      "source": [
        "df.shape"
      ],
      "metadata": {
        "colab": {
          "base_uri": "https://localhost:8080/"
        },
        "id": "l3bodDmkS74C",
        "outputId": "5c79f80b-247f-4e4e-a9bb-d3cac349d024"
      },
      "execution_count": null,
      "outputs": [
        {
          "output_type": "execute_result",
          "data": {
            "text/plain": [
              "(4602224, 35)"
            ]
          },
          "metadata": {},
          "execution_count": 12
        }
      ]
    },
    {
      "cell_type": "code",
      "source": [
        "df['Timestamp'] = pd.to_datetime(df['Timestamp'], format='%Y-%m-%dT%H:%M:%S.%fZ', errors='coerce')\n"
      ],
      "metadata": {
        "id": "wIh9VBHUdGGJ"
      },
      "execution_count": 30,
      "outputs": []
    },
    {
      "cell_type": "code",
      "source": [
        "df[\"Day\"]=df[\"Timestamp\"].dt.day\n",
        "df[\"Month\"]=df[\"Timestamp\"].dt.month\n",
        "df[\"Year\"]=df[\"Timestamp\"].dt.year\n",
        "df[\"Hour\"]=df[\"Timestamp\"].dt.hour\n",
        "df[\"Time\"]=df[\"Timestamp\"].dt.time"
      ],
      "metadata": {
        "id": "657DNGg-iB9i"
      },
      "execution_count": 31,
      "outputs": []
    },
    {
      "cell_type": "code",
      "source": [
        "df = df.drop(columns=['Timestamp'])"
      ],
      "metadata": {
        "id": "d65ILszUURHq"
      },
      "execution_count": 32,
      "outputs": []
    },
    {
      "cell_type": "code",
      "source": [
        "df.head()"
      ],
      "metadata": {
        "colab": {
          "base_uri": "https://localhost:8080/",
          "height": 255
        },
        "id": "aqfd0ejNj_PC",
        "outputId": "afc3262e-8fb9-43f0-f4ec-ae04f54c70f5"
      },
      "execution_count": null,
      "outputs": [
        {
          "output_type": "execute_result",
          "data": {
            "text/plain": [
              "              Id  OrgId  IncidentId  AlertId  DetectorId  AlertTitle  \\\n",
              "0  1709396985476     26       18583   687462          31         813   \n",
              "1   927712939180     33        5065     3990          38          25   \n",
              "2  1090921697002    201      150787   807590         419         444   \n",
              "3  1434519079555    204      108287    28575          44        1233   \n",
              "4  1005022347708     54      528202  1458226         102       58829   \n",
              "\n",
              "             Category   IncidentGrade EntityType EvidenceRole  ...  OSFamily  \\\n",
              "0             Malware  BenignPositive       File      Related  ...         5   \n",
              "1              Impact  BenignPositive    Machine     Impacted  ...         5   \n",
              "2           Execution  BenignPositive    Machine     Impacted  ...         5   \n",
              "3  SuspiciousActivity    TruePositive       File      Related  ...         5   \n",
              "4        Exfiltration  BenignPositive       File     Impacted  ...         5   \n",
              "\n",
              "   OSVersion  CountryCode  State   City  Day  Month  Year  Hour      Time  \n",
              "0         66          242   1445  10630    6      6  2024     5  05:56:47  \n",
              "1         66          242   1445  10630    3      6  2024    10  10:45:09  \n",
              "2         66          242   1445  10630   13      6  2024     3  03:36:40  \n",
              "3         66          242   1445  10630    8      6  2024    16  16:54:57  \n",
              "4         66          242   1445  10630    9      6  2024     2  02:48:01  \n",
              "\n",
              "[5 rows x 39 columns]"
            ],
            "text/html": [
              "\n",
              "  <div id=\"df-794b3c78-289a-4b4f-b5f2-12d00dc03483\" class=\"colab-df-container\">\n",
              "    <div>\n",
              "<style scoped>\n",
              "    .dataframe tbody tr th:only-of-type {\n",
              "        vertical-align: middle;\n",
              "    }\n",
              "\n",
              "    .dataframe tbody tr th {\n",
              "        vertical-align: top;\n",
              "    }\n",
              "\n",
              "    .dataframe thead th {\n",
              "        text-align: right;\n",
              "    }\n",
              "</style>\n",
              "<table border=\"1\" class=\"dataframe\">\n",
              "  <thead>\n",
              "    <tr style=\"text-align: right;\">\n",
              "      <th></th>\n",
              "      <th>Id</th>\n",
              "      <th>OrgId</th>\n",
              "      <th>IncidentId</th>\n",
              "      <th>AlertId</th>\n",
              "      <th>DetectorId</th>\n",
              "      <th>AlertTitle</th>\n",
              "      <th>Category</th>\n",
              "      <th>IncidentGrade</th>\n",
              "      <th>EntityType</th>\n",
              "      <th>EvidenceRole</th>\n",
              "      <th>...</th>\n",
              "      <th>OSFamily</th>\n",
              "      <th>OSVersion</th>\n",
              "      <th>CountryCode</th>\n",
              "      <th>State</th>\n",
              "      <th>City</th>\n",
              "      <th>Day</th>\n",
              "      <th>Month</th>\n",
              "      <th>Year</th>\n",
              "      <th>Hour</th>\n",
              "      <th>Time</th>\n",
              "    </tr>\n",
              "  </thead>\n",
              "  <tbody>\n",
              "    <tr>\n",
              "      <th>0</th>\n",
              "      <td>1709396985476</td>\n",
              "      <td>26</td>\n",
              "      <td>18583</td>\n",
              "      <td>687462</td>\n",
              "      <td>31</td>\n",
              "      <td>813</td>\n",
              "      <td>Malware</td>\n",
              "      <td>BenignPositive</td>\n",
              "      <td>File</td>\n",
              "      <td>Related</td>\n",
              "      <td>...</td>\n",
              "      <td>5</td>\n",
              "      <td>66</td>\n",
              "      <td>242</td>\n",
              "      <td>1445</td>\n",
              "      <td>10630</td>\n",
              "      <td>6</td>\n",
              "      <td>6</td>\n",
              "      <td>2024</td>\n",
              "      <td>5</td>\n",
              "      <td>05:56:47</td>\n",
              "    </tr>\n",
              "    <tr>\n",
              "      <th>1</th>\n",
              "      <td>927712939180</td>\n",
              "      <td>33</td>\n",
              "      <td>5065</td>\n",
              "      <td>3990</td>\n",
              "      <td>38</td>\n",
              "      <td>25</td>\n",
              "      <td>Impact</td>\n",
              "      <td>BenignPositive</td>\n",
              "      <td>Machine</td>\n",
              "      <td>Impacted</td>\n",
              "      <td>...</td>\n",
              "      <td>5</td>\n",
              "      <td>66</td>\n",
              "      <td>242</td>\n",
              "      <td>1445</td>\n",
              "      <td>10630</td>\n",
              "      <td>3</td>\n",
              "      <td>6</td>\n",
              "      <td>2024</td>\n",
              "      <td>10</td>\n",
              "      <td>10:45:09</td>\n",
              "    </tr>\n",
              "    <tr>\n",
              "      <th>2</th>\n",
              "      <td>1090921697002</td>\n",
              "      <td>201</td>\n",
              "      <td>150787</td>\n",
              "      <td>807590</td>\n",
              "      <td>419</td>\n",
              "      <td>444</td>\n",
              "      <td>Execution</td>\n",
              "      <td>BenignPositive</td>\n",
              "      <td>Machine</td>\n",
              "      <td>Impacted</td>\n",
              "      <td>...</td>\n",
              "      <td>5</td>\n",
              "      <td>66</td>\n",
              "      <td>242</td>\n",
              "      <td>1445</td>\n",
              "      <td>10630</td>\n",
              "      <td>13</td>\n",
              "      <td>6</td>\n",
              "      <td>2024</td>\n",
              "      <td>3</td>\n",
              "      <td>03:36:40</td>\n",
              "    </tr>\n",
              "    <tr>\n",
              "      <th>3</th>\n",
              "      <td>1434519079555</td>\n",
              "      <td>204</td>\n",
              "      <td>108287</td>\n",
              "      <td>28575</td>\n",
              "      <td>44</td>\n",
              "      <td>1233</td>\n",
              "      <td>SuspiciousActivity</td>\n",
              "      <td>TruePositive</td>\n",
              "      <td>File</td>\n",
              "      <td>Related</td>\n",
              "      <td>...</td>\n",
              "      <td>5</td>\n",
              "      <td>66</td>\n",
              "      <td>242</td>\n",
              "      <td>1445</td>\n",
              "      <td>10630</td>\n",
              "      <td>8</td>\n",
              "      <td>6</td>\n",
              "      <td>2024</td>\n",
              "      <td>16</td>\n",
              "      <td>16:54:57</td>\n",
              "    </tr>\n",
              "    <tr>\n",
              "      <th>4</th>\n",
              "      <td>1005022347708</td>\n",
              "      <td>54</td>\n",
              "      <td>528202</td>\n",
              "      <td>1458226</td>\n",
              "      <td>102</td>\n",
              "      <td>58829</td>\n",
              "      <td>Exfiltration</td>\n",
              "      <td>BenignPositive</td>\n",
              "      <td>File</td>\n",
              "      <td>Impacted</td>\n",
              "      <td>...</td>\n",
              "      <td>5</td>\n",
              "      <td>66</td>\n",
              "      <td>242</td>\n",
              "      <td>1445</td>\n",
              "      <td>10630</td>\n",
              "      <td>9</td>\n",
              "      <td>6</td>\n",
              "      <td>2024</td>\n",
              "      <td>2</td>\n",
              "      <td>02:48:01</td>\n",
              "    </tr>\n",
              "  </tbody>\n",
              "</table>\n",
              "<p>5 rows × 39 columns</p>\n",
              "</div>\n",
              "    <div class=\"colab-df-buttons\">\n",
              "\n",
              "  <div class=\"colab-df-container\">\n",
              "    <button class=\"colab-df-convert\" onclick=\"convertToInteractive('df-794b3c78-289a-4b4f-b5f2-12d00dc03483')\"\n",
              "            title=\"Convert this dataframe to an interactive table.\"\n",
              "            style=\"display:none;\">\n",
              "\n",
              "  <svg xmlns=\"http://www.w3.org/2000/svg\" height=\"24px\" viewBox=\"0 -960 960 960\">\n",
              "    <path d=\"M120-120v-720h720v720H120Zm60-500h600v-160H180v160Zm220 220h160v-160H400v160Zm0 220h160v-160H400v160ZM180-400h160v-160H180v160Zm440 0h160v-160H620v160ZM180-180h160v-160H180v160Zm440 0h160v-160H620v160Z\"/>\n",
              "  </svg>\n",
              "    </button>\n",
              "\n",
              "  <style>\n",
              "    .colab-df-container {\n",
              "      display:flex;\n",
              "      gap: 12px;\n",
              "    }\n",
              "\n",
              "    .colab-df-convert {\n",
              "      background-color: #E8F0FE;\n",
              "      border: none;\n",
              "      border-radius: 50%;\n",
              "      cursor: pointer;\n",
              "      display: none;\n",
              "      fill: #1967D2;\n",
              "      height: 32px;\n",
              "      padding: 0 0 0 0;\n",
              "      width: 32px;\n",
              "    }\n",
              "\n",
              "    .colab-df-convert:hover {\n",
              "      background-color: #E2EBFA;\n",
              "      box-shadow: 0px 1px 2px rgba(60, 64, 67, 0.3), 0px 1px 3px 1px rgba(60, 64, 67, 0.15);\n",
              "      fill: #174EA6;\n",
              "    }\n",
              "\n",
              "    .colab-df-buttons div {\n",
              "      margin-bottom: 4px;\n",
              "    }\n",
              "\n",
              "    [theme=dark] .colab-df-convert {\n",
              "      background-color: #3B4455;\n",
              "      fill: #D2E3FC;\n",
              "    }\n",
              "\n",
              "    [theme=dark] .colab-df-convert:hover {\n",
              "      background-color: #434B5C;\n",
              "      box-shadow: 0px 1px 3px 1px rgba(0, 0, 0, 0.15);\n",
              "      filter: drop-shadow(0px 1px 2px rgba(0, 0, 0, 0.3));\n",
              "      fill: #FFFFFF;\n",
              "    }\n",
              "  </style>\n",
              "\n",
              "    <script>\n",
              "      const buttonEl =\n",
              "        document.querySelector('#df-794b3c78-289a-4b4f-b5f2-12d00dc03483 button.colab-df-convert');\n",
              "      buttonEl.style.display =\n",
              "        google.colab.kernel.accessAllowed ? 'block' : 'none';\n",
              "\n",
              "      async function convertToInteractive(key) {\n",
              "        const element = document.querySelector('#df-794b3c78-289a-4b4f-b5f2-12d00dc03483');\n",
              "        const dataTable =\n",
              "          await google.colab.kernel.invokeFunction('convertToInteractive',\n",
              "                                                    [key], {});\n",
              "        if (!dataTable) return;\n",
              "\n",
              "        const docLinkHtml = 'Like what you see? Visit the ' +\n",
              "          '<a target=\"_blank\" href=https://colab.research.google.com/notebooks/data_table.ipynb>data table notebook</a>'\n",
              "          + ' to learn more about interactive tables.';\n",
              "        element.innerHTML = '';\n",
              "        dataTable['output_type'] = 'display_data';\n",
              "        await google.colab.output.renderOutput(dataTable, element);\n",
              "        const docLink = document.createElement('div');\n",
              "        docLink.innerHTML = docLinkHtml;\n",
              "        element.appendChild(docLink);\n",
              "      }\n",
              "    </script>\n",
              "  </div>\n",
              "\n",
              "\n",
              "<div id=\"df-5451bc99-bd21-4682-9d38-41636da9524b\">\n",
              "  <button class=\"colab-df-quickchart\" onclick=\"quickchart('df-5451bc99-bd21-4682-9d38-41636da9524b')\"\n",
              "            title=\"Suggest charts\"\n",
              "            style=\"display:none;\">\n",
              "\n",
              "<svg xmlns=\"http://www.w3.org/2000/svg\" height=\"24px\"viewBox=\"0 0 24 24\"\n",
              "     width=\"24px\">\n",
              "    <g>\n",
              "        <path d=\"M19 3H5c-1.1 0-2 .9-2 2v14c0 1.1.9 2 2 2h14c1.1 0 2-.9 2-2V5c0-1.1-.9-2-2-2zM9 17H7v-7h2v7zm4 0h-2V7h2v10zm4 0h-2v-4h2v4z\"/>\n",
              "    </g>\n",
              "</svg>\n",
              "  </button>\n",
              "\n",
              "<style>\n",
              "  .colab-df-quickchart {\n",
              "      --bg-color: #E8F0FE;\n",
              "      --fill-color: #1967D2;\n",
              "      --hover-bg-color: #E2EBFA;\n",
              "      --hover-fill-color: #174EA6;\n",
              "      --disabled-fill-color: #AAA;\n",
              "      --disabled-bg-color: #DDD;\n",
              "  }\n",
              "\n",
              "  [theme=dark] .colab-df-quickchart {\n",
              "      --bg-color: #3B4455;\n",
              "      --fill-color: #D2E3FC;\n",
              "      --hover-bg-color: #434B5C;\n",
              "      --hover-fill-color: #FFFFFF;\n",
              "      --disabled-bg-color: #3B4455;\n",
              "      --disabled-fill-color: #666;\n",
              "  }\n",
              "\n",
              "  .colab-df-quickchart {\n",
              "    background-color: var(--bg-color);\n",
              "    border: none;\n",
              "    border-radius: 50%;\n",
              "    cursor: pointer;\n",
              "    display: none;\n",
              "    fill: var(--fill-color);\n",
              "    height: 32px;\n",
              "    padding: 0;\n",
              "    width: 32px;\n",
              "  }\n",
              "\n",
              "  .colab-df-quickchart:hover {\n",
              "    background-color: var(--hover-bg-color);\n",
              "    box-shadow: 0 1px 2px rgba(60, 64, 67, 0.3), 0 1px 3px 1px rgba(60, 64, 67, 0.15);\n",
              "    fill: var(--button-hover-fill-color);\n",
              "  }\n",
              "\n",
              "  .colab-df-quickchart-complete:disabled,\n",
              "  .colab-df-quickchart-complete:disabled:hover {\n",
              "    background-color: var(--disabled-bg-color);\n",
              "    fill: var(--disabled-fill-color);\n",
              "    box-shadow: none;\n",
              "  }\n",
              "\n",
              "  .colab-df-spinner {\n",
              "    border: 2px solid var(--fill-color);\n",
              "    border-color: transparent;\n",
              "    border-bottom-color: var(--fill-color);\n",
              "    animation:\n",
              "      spin 1s steps(1) infinite;\n",
              "  }\n",
              "\n",
              "  @keyframes spin {\n",
              "    0% {\n",
              "      border-color: transparent;\n",
              "      border-bottom-color: var(--fill-color);\n",
              "      border-left-color: var(--fill-color);\n",
              "    }\n",
              "    20% {\n",
              "      border-color: transparent;\n",
              "      border-left-color: var(--fill-color);\n",
              "      border-top-color: var(--fill-color);\n",
              "    }\n",
              "    30% {\n",
              "      border-color: transparent;\n",
              "      border-left-color: var(--fill-color);\n",
              "      border-top-color: var(--fill-color);\n",
              "      border-right-color: var(--fill-color);\n",
              "    }\n",
              "    40% {\n",
              "      border-color: transparent;\n",
              "      border-right-color: var(--fill-color);\n",
              "      border-top-color: var(--fill-color);\n",
              "    }\n",
              "    60% {\n",
              "      border-color: transparent;\n",
              "      border-right-color: var(--fill-color);\n",
              "    }\n",
              "    80% {\n",
              "      border-color: transparent;\n",
              "      border-right-color: var(--fill-color);\n",
              "      border-bottom-color: var(--fill-color);\n",
              "    }\n",
              "    90% {\n",
              "      border-color: transparent;\n",
              "      border-bottom-color: var(--fill-color);\n",
              "    }\n",
              "  }\n",
              "</style>\n",
              "\n",
              "  <script>\n",
              "    async function quickchart(key) {\n",
              "      const quickchartButtonEl =\n",
              "        document.querySelector('#' + key + ' button');\n",
              "      quickchartButtonEl.disabled = true;  // To prevent multiple clicks.\n",
              "      quickchartButtonEl.classList.add('colab-df-spinner');\n",
              "      try {\n",
              "        const charts = await google.colab.kernel.invokeFunction(\n",
              "            'suggestCharts', [key], {});\n",
              "      } catch (error) {\n",
              "        console.error('Error during call to suggestCharts:', error);\n",
              "      }\n",
              "      quickchartButtonEl.classList.remove('colab-df-spinner');\n",
              "      quickchartButtonEl.classList.add('colab-df-quickchart-complete');\n",
              "    }\n",
              "    (() => {\n",
              "      let quickchartButtonEl =\n",
              "        document.querySelector('#df-5451bc99-bd21-4682-9d38-41636da9524b button');\n",
              "      quickchartButtonEl.style.display =\n",
              "        google.colab.kernel.accessAllowed ? 'block' : 'none';\n",
              "    })();\n",
              "  </script>\n",
              "</div>\n",
              "\n",
              "    </div>\n",
              "  </div>\n"
            ],
            "application/vnd.google.colaboratory.intrinsic+json": {
              "type": "dataframe",
              "variable_name": "df"
            }
          },
          "metadata": {},
          "execution_count": 16
        }
      ]
    },
    {
      "cell_type": "markdown",
      "source": [
        "#Data visualization"
      ],
      "metadata": {
        "id": "OnSXu4thnm5q"
      }
    },
    {
      "cell_type": "code",
      "source": [
        "import pandas as pd\n",
        "import matplotlib.pyplot as plt\n",
        "import seaborn as sns\n"
      ],
      "metadata": {
        "id": "yvbL7eVPhlFj"
      },
      "execution_count": null,
      "outputs": []
    },
    {
      "cell_type": "code",
      "source": [
        "\n",
        "# Pie chart for 'IncidentGrade'\n",
        "incident_grade_counts = df['IncidentGrade'].value_counts()\n",
        "plt.figure(figsize=(8, 8))\n",
        "incident_grade_counts.plot.pie(autopct='%1.1f%%', startangle=90, cmap='Set3')\n",
        "plt.title('Distribution of IncidentGrade')\n",
        "plt.ylabel('')\n",
        "plt.show()"
      ],
      "metadata": {
        "colab": {
          "base_uri": "https://localhost:8080/",
          "height": 675
        },
        "id": "bCkGY-kLogN7",
        "outputId": "b335a068-371d-4c1b-89d0-467b451d562c"
      },
      "execution_count": null,
      "outputs": [
        {
          "output_type": "display_data",
          "data": {
            "text/plain": [
              "<Figure size 800x800 with 1 Axes>"
            ],
            "image/png": "[encoded data removed]"
          },
          "metadata": {}
        }
      ]
    },
    {
      "cell_type": "code",
      "source": [
        "# Visualizing distribution of a column (e.g., 'IncidentId')\n",
        "plt.figure(figsize=(10, 6))\n",
        "sns.histplot(df['IncidentId'], kde=True, bins=50)\n",
        "plt.title('Distribution of IncidentId')\n",
        "plt.xlabel('IncidentId')\n",
        "plt.ylabel('Frequency')\n",
        "plt.show()\n"
      ],
      "metadata": {
        "colab": {
          "base_uri": "https://localhost:8080/",
          "height": 564
        },
        "id": "hZ5eOLTIo7Il",
        "outputId": "e2abc024-d684-4abb-c23a-ba3dfde38817"
      },
      "execution_count": null,
      "outputs": [
        {
          "output_type": "display_data",
          "data": {
            "text/plain": [
              "<Figure size 1000x600 with 1 Axes>"
            ],
            "image/png": "[encoded data removed]"
          },
          "metadata": {}
        }
      ]
    },
    {
      "cell_type": "code",
      "source": [
        "# Count plot for categorical column (e.g., 'IncidentGrade')\n",
        "plt.figure(figsize=(10, 6))\n",
        "sns.countplot(data=df, x='IncidentGrade')\n",
        "plt.title('IncidentGrade Distribution')\n",
        "plt.xlabel('IncidentGrade')\n",
        "plt.ylabel('Count')\n",
        "plt.show()"
      ],
      "metadata": {
        "colab": {
          "base_uri": "https://localhost:8080/",
          "height": 564
        },
        "id": "NlcyF3Yzq3fn",
        "outputId": "ea87c949-0a24-4878-a443-2c12bcf507f2"
      },
      "execution_count": null,
      "outputs": [
        {
          "output_type": "display_data",
          "data": {
            "text/plain": [
              "<Figure size 1000x600 with 1 Axes>"
            ],
            "image/png": "[encoded data removed]"
          },
          "metadata": {}
        }
      ]
    },
    {
      "cell_type": "code",
      "source": [
        "# Grouping data to count the number of IncidentIds per Year\n",
        "yearly_incident_counts = df.groupby('Month')['IncidentId'].count()\n",
        "\n",
        "# Plotting the bar plot\n",
        "plt.figure(figsize=(10, 6))\n",
        "yearly_incident_counts.plot(kind='bar', color='skyblue')\n",
        "plt.title('Number of Incident IDs per month')\n",
        "plt.xlabel('Month')\n",
        "plt.ylabel('Number of Incident IDs')\n",
        "plt.xticks(rotation=45)\n",
        "plt.show()\n"
      ],
      "metadata": {
        "colab": {
          "base_uri": "https://localhost:8080/",
          "height": 573
        },
        "id": "HRUKiHbbrXT9",
        "outputId": "14437168-f0db-40c2-f731-e5f55d45fe3f"
      },
      "execution_count": null,
      "outputs": [
        {
          "output_type": "display_data",
          "data": {
            "text/plain": [
              "<Figure size 1000x600 with 1 Axes>"
            ],
            "image/png": "[encoded data removed]"
          },
          "metadata": {}
        }
      ]
    },
    {
      "cell_type": "code",
      "source": [
        "# Grouping data to count the number of AlertIds per Year\n",
        "yearly_alert_counts = df.groupby('Month')['AlertId'].count()\n",
        "\n",
        "# Plotting the bar plot\n",
        "plt.figure(figsize=(10, 6))\n",
        "yearly_alert_counts.plot(kind='bar', color='orange')\n",
        "plt.title('Number of Alert IDs per month')\n",
        "plt.xlabel('Month')\n",
        "plt.ylabel('Number of Alert IDs')\n",
        "plt.xticks(rotation=45)\n",
        "plt.show()\n"
      ],
      "metadata": {
        "id": "aa-Yp40TBQDp",
        "colab": {
          "base_uri": "https://localhost:8080/",
          "height": 573
        },
        "outputId": "4d7711ce-1e22-490c-e3af-b7a2760d90ee"
      },
      "execution_count": null,
      "outputs": [
        {
          "output_type": "display_data",
          "data": {
            "text/plain": [
              "<Figure size 1000x600 with 1 Axes>"
            ],
            "image/png": "[encoded data removed]"
          },
          "metadata": {}
        }
      ]
    },
    {
      "cell_type": "code",
      "source": [
        "# Grouping data to count the number of AlertIds per Category\n",
        "category_alert_counts = df.groupby('Category')['AlertId'].count()\n",
        "\n",
        "# Plotting the bar plot\n",
        "plt.figure(figsize=(12, 6))\n",
        "category_alert_counts.plot(kind='bar', color='teal')\n",
        "plt.title('Number of Alert IDs per Category')\n",
        "plt.xlabel('Category')\n",
        "plt.ylabel('Number of Alert IDs')\n",
        "plt.xticks(rotation=45)\n",
        "plt.show()\n"
      ],
      "metadata": {
        "id": "Pmgtm0gRDNeK",
        "colab": {
          "base_uri": "https://localhost:8080/",
          "height": 665
        },
        "outputId": "bd63e602-ff9d-4d42-af75-66cc03c8c253"
      },
      "execution_count": null,
      "outputs": [
        {
          "output_type": "display_data",
          "data": {
            "text/plain": [
              "<Figure size 1200x600 with 1 Axes>"
            ],
            "image/png": "[encoded data removed]"
          },
          "metadata": {}
        }
      ]
    },
    {
      "cell_type": "markdown",
      "source": [
        "#encoding"
      ],
      "metadata": {
        "id": "jDU5S5fBXDxE"
      }
    },
    {
      "cell_type": "code",
      "source": [
        "df.select_dtypes(include=[\"object\"]).columns"
      ],
      "metadata": {
        "colab": {
          "base_uri": "https://localhost:8080/"
        },
        "id": "YUAP379aUIcD",
        "outputId": "705e8a2b-6ffc-4be3-eba2-eb18774ed49e"
      },
      "execution_count": null,
      "outputs": [
        {
          "output_type": "execute_result",
          "data": {
            "text/plain": [
              "Index(['Category', 'IncidentGrade', 'EntityType', 'EvidenceRole', 'Time'], dtype='object')"
            ]
          },
          "metadata": {},
          "execution_count": 23
        }
      ]
    },
    {
      "cell_type": "code",
      "source": [
        "from sklearn import preprocessing\n",
        "le = preprocessing.LabelEncoder()\n",
        "cols = ['Category','EntityType','IncidentGrade','EvidenceRole','State','City','DeviceName','AccountName',\n",
        "       'Time']\n",
        "# Encode labels of multiple columns at once\n",
        "df[cols] = df[cols].apply(le.fit_transform)"
      ],
      "metadata": {
        "id": "UISA0FC8UJam"
      },
      "execution_count": 33,
      "outputs": []
    },
    {
      "cell_type": "code",
      "source": [
        "df.columns"
      ],
      "metadata": {
        "colab": {
          "base_uri": "https://localhost:8080/"
        },
        "id": "wC2BXe8wVPSy",
        "outputId": "1ea6810a-6188-4782-b2f4-b23e975cc166"
      },
      "execution_count": null,
      "outputs": [
        {
          "output_type": "execute_result",
          "data": {
            "text/plain": [
              "Index(['Id', 'OrgId', 'IncidentId', 'AlertId', 'DetectorId', 'AlertTitle',\n",
              "       'Category', 'IncidentGrade', 'EntityType', 'EvidenceRole', 'DeviceId',\n",
              "       'Sha256', 'IpAddress', 'Url', 'AccountSid', 'AccountUpn',\n",
              "       'AccountObjectId', 'AccountName', 'DeviceName', 'NetworkMessageId',\n",
              "       'RegistryKey', 'RegistryValueName', 'RegistryValueData',\n",
              "       'ApplicationId', 'ApplicationName', 'OAuthApplicationId', 'FileName',\n",
              "       'FolderPath', 'ResourceIdName', 'OSFamily', 'OSVersion', 'CountryCode',\n",
              "       'State', 'City', 'Day', 'Month', 'Year', 'Hour', 'Time'],\n",
              "      dtype='object')"
            ]
          },
          "metadata": {},
          "execution_count": 31
        }
      ]
    },
    {
      "cell_type": "code",
      "source": [
        "df.drop(['Id', 'OrgId', 'IncidentId', 'AlertId', 'DetectorId','DeviceId','FolderPath','FileName','AccountObjectId','IpAddress','Sha256','Url','NetworkMessageId','OAuthApplicationId','ApplicationId'], axis =1 , inplace = True)"
      ],
      "metadata": {
        "id": "ptX5CaVaU8ux"
      },
      "execution_count": 34,
      "outputs": []
    },
    {
      "cell_type": "code",
      "source": [
        "import pandas as pd\n",
        "from sklearn.tree import DecisionTreeClassifier\n",
        "from sklearn.preprocessing import LabelEncoder\n",
        "from sklearn.model_selection import train_test_split\n",
        "import matplotlib.pyplot as plt\n",
        "\n",
        "\n",
        "\n",
        "# Separate features (X) and target (y)\n",
        "X = df.drop(columns=['IncidentGrade'])\n",
        "y = df['IncidentGrade']\n",
        "\n",
        "\n",
        "\n",
        "# Split the dataset into training and testing sets\n",
        "X_train, X_test, y_train, y_test = train_test_split(X, y, test_size=0.3, random_state=42)\n",
        "\n",
        "# Initialize and train the DecisionTreeClassifier\n",
        "clf = DecisionTreeClassifier(random_state=42)\n",
        "clf.fit(X_train, y_train)\n",
        "\n",
        "# Get feature importances\n",
        "importances = clf.feature_importances_\n",
        "\n",
        "# Create a DataFrame for better visualization\n",
        "feature_importances = pd.DataFrame({\n",
        "    'Feature': X.columns,\n",
        "    'Importance': importances\n",
        "}).sort_values(by='Importance', ascending=False)\n",
        "\n",
        "print(feature_importances)\n",
        "\n",
        "# Plot feature importances\n",
        "plt.figure(figsize=(10, 6))\n",
        "plt.barh(feature_importances['Feature'], feature_importances['Importance'], color='skyblue')\n",
        "plt.xlabel('Importance')\n",
        "plt.ylabel('Feature')\n",
        "plt.title('Feature Importances from DecisionTreeClassifier')\n",
        "plt.gca().invert_yaxis()  # Reverse the order for better visualization\n",
        "plt.show()"
      ],
      "metadata": {
        "colab": {
          "base_uri": "https://localhost:8080/",
          "height": 1000
        },
        "id": "FO_cOFpMW6Xh",
        "outputId": "1d8c026f-0355-42ca-a401-be28a1bdf104"
      },
      "execution_count": 35,
      "outputs": [
        {
          "output_type": "stream",
          "name": "stdout",
          "text": [
            "              Feature  Importance\n",
            "0          AlertTitle    0.328907\n",
            "22               Time    0.245947\n",
            "18                Day    0.097324\n",
            "1            Category    0.068657\n",
            "5          AccountUpn    0.060104\n",
            "4          AccountSid    0.054475\n",
            "15        CountryCode    0.027253\n",
            "7          DeviceName    0.027077\n",
            "2          EntityType    0.026595\n",
            "6         AccountName    0.024243\n",
            "21               Hour    0.019863\n",
            "17               City    0.008003\n",
            "3        EvidenceRole    0.004047\n",
            "16              State    0.003023\n",
            "11    ApplicationName    0.001377\n",
            "19              Month    0.001342\n",
            "14          OSVersion    0.000569\n",
            "12     ResourceIdName    0.000484\n",
            "13           OSFamily    0.000335\n",
            "8         RegistryKey    0.000183\n",
            "10  RegistryValueData    0.000105\n",
            "9   RegistryValueName    0.000078\n",
            "20               Year    0.000009\n"
          ]
        },
        {
          "output_type": "display_data",
          "data": {
            "text/plain": [
              "<Figure size 1000x600 with 1 Axes>"
            ],
            "image/png": "[encoded data removed]"
          },
          "metadata": {}
        }
      ]
    },
    {
      "cell_type": "code",
      "source": [
        "df.drop(['Month','ApplicationName','OSVersion','RegistryKey','ResourceIdName','OSFamily','RegistryValueName','RegistryValueData','Year'], axis =1 , inplace = True)"
      ],
      "metadata": {
        "id": "kO00kxMxXRNw"
      },
      "execution_count": 37,
      "outputs": []
    },
    {
      "cell_type": "markdown",
      "source": [
        "#balancing data"
      ],
      "metadata": {
        "id": "Ru0DnconkPUs"
      }
    },
    {
      "cell_type": "code",
      "source": [
        "! pip install -U imbalanced-learn\n"
      ],
      "metadata": {
        "colab": {
          "base_uri": "https://localhost:8080/"
        },
        "id": "D-LEK2bLbuxq",
        "outputId": "1274197d-9fe2-4c7a-b76a-ad1dd9bfbcd9"
      },
      "execution_count": null,
      "outputs": [
        {
          "output_type": "stream",
          "name": "stdout",
          "text": [
            "Requirement already satisfied: imbalanced-learn in /usr/local/lib/python3.10/dist-packages (0.12.4)\n",
            "Requirement already satisfied: numpy>=1.17.3 in /usr/local/lib/python3.10/dist-packages (from imbalanced-learn) (1.26.4)\n",
            "Requirement already satisfied: scipy>=1.5.0 in /usr/local/lib/python3.10/dist-packages (from imbalanced-learn) (1.13.1)\n",
            "Requirement already satisfied: scikit-learn>=1.0.2 in /usr/local/lib/python3.10/dist-packages (from imbalanced-learn) (1.5.2)\n",
            "Requirement already satisfied: joblib>=1.1.1 in /usr/local/lib/python3.10/dist-packages (from imbalanced-learn) (1.4.2)\n",
            "Requirement already satisfied: threadpoolctl>=2.0.0 in /usr/local/lib/python3.10/dist-packages (from imbalanced-learn) (3.5.0)\n"
          ]
        }
      ]
    },
    {
      "cell_type": "code",
      "source": [
        "X = df.drop('IncidentGrade', axis=1)  # Features\n",
        "y = df['IncidentGrade']"
      ],
      "metadata": {
        "id": "LlQ4PrclkYOZ"
      },
      "execution_count": 38,
      "outputs": []
    },
    {
      "cell_type": "code",
      "source": [
        "from sklearn.model_selection import train_test_split"
      ],
      "metadata": {
        "id": "7uhkmy38Kd0t"
      },
      "execution_count": 39,
      "outputs": []
    },
    {
      "cell_type": "code",
      "source": [
        "X_train, X_test, y_train, y_test = train_test_split(X, y, test_size=0.2, random_state=42)\n"
      ],
      "metadata": {
        "id": "fsGOw30wmG_8"
      },
      "execution_count": 40,
      "outputs": []
    },
    {
      "cell_type": "code",
      "source": [
        "from imblearn.under_sampling import RandomUnderSampler\n",
        "rus = RandomUnderSampler(random_state=42)\n",
        "X_resampled, y_resampled = rus.fit_resample(X, y)\n"
      ],
      "metadata": {
        "id": "gSRySbkumIEc"
      },
      "execution_count": 41,
      "outputs": []
    },
    {
      "cell_type": "code",
      "source": [
        "y_resampled.value_counts()"
      ],
      "metadata": {
        "colab": {
          "base_uri": "https://localhost:8080/",
          "height": 209
        },
        "id": "2WStMPinoVTE",
        "outputId": "a6d1d12a-4524-4ab6-88b8-871156b1ca41"
      },
      "execution_count": 42,
      "outputs": [
        {
          "output_type": "execute_result",
          "data": {
            "text/plain": [
              "IncidentGrade\n",
              "0    994500\n",
              "1    994500\n",
              "2    994500\n",
              "Name: count, dtype: int64"
            ],
            "text/html": [
              "<div>\n",
              "<style scoped>\n",
              "    .dataframe tbody tr th:only-of-type {\n",
              "        vertical-align: middle;\n",
              "    }\n",
              "\n",
              "    .dataframe tbody tr th {\n",
              "        vertical-align: top;\n",
              "    }\n",
              "\n",
              "    .dataframe thead th {\n",
              "        text-align: right;\n",
              "    }\n",
              "</style>\n",
              "<table border=\"1\" class=\"dataframe\">\n",
              "  <thead>\n",
              "    <tr style=\"text-align: right;\">\n",
              "      <th></th>\n",
              "      <th>count</th>\n",
              "    </tr>\n",
              "    <tr>\n",
              "      <th>IncidentGrade</th>\n",
              "      <th></th>\n",
              "    </tr>\n",
              "  </thead>\n",
              "  <tbody>\n",
              "    <tr>\n",
              "      <th>0</th>\n",
              "      <td>994500</td>\n",
              "    </tr>\n",
              "    <tr>\n",
              "      <th>1</th>\n",
              "      <td>994500</td>\n",
              "    </tr>\n",
              "    <tr>\n",
              "      <th>2</th>\n",
              "      <td>994500</td>\n",
              "    </tr>\n",
              "  </tbody>\n",
              "</table>\n",
              "</div><br><label><b>dtype:</b> int64</label>"
            ]
          },
          "metadata": {},
          "execution_count": 42
        }
      ]
    },
    {
      "cell_type": "markdown",
      "source": [
        "#model training"
      ],
      "metadata": {
        "id": "LfV3PBh4r3bN"
      }
    },
    {
      "cell_type": "code",
      "source": [
        "from sklearn.model_selection import GridSearchCV\n",
        "from sklearn.tree import DecisionTreeClassifier\n",
        "\n",
        "param_grid = {\n",
        "     'criterion' :['entropy','gini','log_loss'],\n",
        "    'splitter':['best','random'],\n",
        "    'max_depth':[1,2,3,4,5],\n",
        "    'max_features':['auto','sqrt','log2']\n",
        "}\n",
        "\n",
        "grid_search = GridSearchCV(DecisionTreeClassifier(random_state=42), param_grid, cv=5)\n",
        "grid_search.fit(X_resampled, y_resampled)\n",
        "\n",
        "print(\"Best Parameters:\", grid_search.best_params_)\n"
      ],
      "metadata": {
        "colab": {
          "base_uri": "https://localhost:8080/"
        },
        "id": "BBnNaiyV5NFC",
        "outputId": "2db5a2aa-4947-4990-8c3d-27d0a1416aa4"
      },
      "execution_count": 21,
      "outputs": [
        {
          "output_type": "stream",
          "name": "stderr",
          "text": [
            "/usr/local/lib/python3.10/dist-packages/sklearn/model_selection/_validation.py:540: FitFailedWarning: \n",
            "150 fits failed out of a total of 450.\n",
            "The score on these train-test partitions for these parameters will be set to nan.\n",
            "If these failures are not expected, you can try to debug them by setting error_score='raise'.\n",
            "\n",
            "Below are more details about the failures:\n",
            "--------------------------------------------------------------------------------\n",
            "150 fits failed with the following error:\n",
            "Traceback (most recent call last):\n",
            "  File \"/usr/local/lib/python3.10/dist-packages/sklearn/model_selection/_validation.py\", line 888, in _fit_and_score\n",
            "    estimator.fit(X_train, y_train, **fit_params)\n",
            "  File \"/usr/local/lib/python3.10/dist-packages/sklearn/base.py\", line 1466, in wrapper\n",
            "    estimator._validate_params()\n",
            "  File \"/usr/local/lib/python3.10/dist-packages/sklearn/base.py\", line 666, in _validate_params\n",
            "    validate_parameter_constraints(\n",
            "  File \"/usr/local/lib/python3.10/dist-packages/sklearn/utils/_param_validation.py\", line 95, in validate_parameter_constraints\n",
            "    raise InvalidParameterError(\n",
            "sklearn.utils._param_validation.InvalidParameterError: The 'max_features' parameter of DecisionTreeClassifier must be an int in the range [1, inf), a float in the range (0.0, 1.0], a str among {'log2', 'sqrt'} or None. Got 'auto' instead.\n",
            "\n",
            "  warnings.warn(some_fits_failed_message, FitFailedWarning)\n",
            "/usr/local/lib/python3.10/dist-packages/sklearn/model_selection/_search.py:1103: UserWarning: One or more of the test scores are non-finite: [       nan        nan 0.43436065 0.35358405 0.43436065 0.35358405\n",
            "        nan        nan 0.46540875 0.38528976 0.46540875 0.38528976\n",
            "        nan        nan 0.45312016 0.40194637 0.45312016 0.40194637\n",
            "        nan        nan 0.51571342 0.41032914 0.51571342 0.41032914\n",
            "        nan        nan 0.50148081 0.43948182 0.50148081 0.43948182\n",
            "        nan        nan 0.46540875 0.35358405 0.46540875 0.35358405\n",
            "        nan        nan 0.48505145 0.38528976 0.48505145 0.38528976\n",
            "        nan        nan 0.48471393 0.40194637 0.48471393 0.40194637\n",
            "        nan        nan 0.50383442 0.41032914 0.50383442 0.41032914\n",
            "        nan        nan 0.55467069 0.43951232 0.55467069 0.43951232\n",
            "        nan        nan 0.43436065 0.35358405 0.43436065 0.35358405\n",
            "        nan        nan 0.46540875 0.38528976 0.46540875 0.38528976\n",
            "        nan        nan 0.45312016 0.40194637 0.45312016 0.40194637\n",
            "        nan        nan 0.51571342 0.41032914 0.51571342 0.41032914\n",
            "        nan        nan 0.50148081 0.43948182 0.50148081 0.43948182]\n",
            "  warnings.warn(\n"
          ]
        },
        {
          "output_type": "stream",
          "name": "stdout",
          "text": [
            "Best Parameters: {'criterion': 'gini', 'max_depth': 5, 'max_features': 'sqrt', 'splitter': 'best'}\n"
          ]
        }
      ]
    },
    {
      "cell_type": "code",
      "source": [
        "models = {\n",
        "     'Decision Tree': DecisionTreeClassifier(max_depth=5, max_features='sqrt',random_state=42),\n",
        "    'XGBoost': XGBClassifier(n_jobs=-1, random_state=42),\n",
        "    'LightGBM': LGBMClassifier(n_jobs=-1, random_state=42),\n",
        "    'Naive Bayes': GaussianNB(),\n",
        "    'Logistic Regression': LogisticRegression(random_state=42)\n",
        "}\n",
        "\n",
        "for model_name, model in models.items():\n",
        "    print(f'Model: {model_name}')\n",
        "\n",
        "    model.fit(X_resampled, y_resampled)\n",
        "\n",
        "    y_pred = model.predict(X_test)\n",
        "\n",
        "    # Evaluateing the models\n",
        "    accuracy = accuracy_score(y_test, y_pred)\n",
        "    report = classification_report(y_test, y_pred)\n",
        "\n",
        "    # Displaying the results of the modles\n",
        "    print(f'Accuracy: {accuracy}')\n",
        "    print('Classification Report:')\n",
        "    print(report)\n",
        "    print('-' * 50)"
      ],
      "metadata": {
        "id": "FDv-NlBP5YB4",
        "colab": {
          "base_uri": "https://localhost:8080/"
        },
        "outputId": "e7577ca1-6fe2-4d17-9028-dd6492910d32"
      },
      "execution_count": 44,
      "outputs": [
        {
          "output_type": "stream",
          "name": "stdout",
          "text": [
            "Model: Decision Tree\n",
            "Accuracy: 0.5986843320350482\n",
            "Classification Report:\n",
            "              precision    recall  f1-score   support\n",
            "\n",
            "           0       0.61      0.77      0.68    399779\n",
            "           1       0.36      0.36      0.36    199133\n",
            "           2       0.79      0.54      0.64    321533\n",
            "\n",
            "    accuracy                           0.60    920445\n",
            "   macro avg       0.59      0.55      0.56    920445\n",
            "weighted avg       0.62      0.60      0.60    920445\n",
            "\n",
            "--------------------------------------------------\n",
            "Model: XGBoost\n",
            "Accuracy: 0.7658589052034613\n",
            "Classification Report:\n",
            "              precision    recall  f1-score   support\n",
            "\n",
            "           0       0.76      0.84      0.80    399779\n",
            "           1       0.65      0.67      0.66    199133\n",
            "           2       0.86      0.74      0.79    321533\n",
            "\n",
            "    accuracy                           0.77    920445\n",
            "   macro avg       0.76      0.75      0.75    920445\n",
            "weighted avg       0.77      0.77      0.77    920445\n",
            "\n",
            "--------------------------------------------------\n",
            "Model: LightGBM\n",
            "[LightGBM] [Info] Auto-choosing row-wise multi-threading, the overhead of testing was 0.463154 seconds.\n",
            "You can set `force_row_wise=true` to remove the overhead.\n",
            "And if memory is not enough, you can set `force_col_wise=true`.\n",
            "[LightGBM] [Info] Total Bins 2243\n",
            "[LightGBM] [Info] Number of data points in the train set: 2983500, number of used features: 14\n",
            "[LightGBM] [Info] Start training from score -1.098612\n",
            "[LightGBM] [Info] Start training from score -1.098612\n",
            "[LightGBM] [Info] Start training from score -1.098612\n",
            "Accuracy: 0.7497818989727795\n",
            "Classification Report:\n",
            "              precision    recall  f1-score   support\n",
            "\n",
            "           0       0.73      0.84      0.78    399779\n",
            "           1       0.64      0.64      0.64    199133\n",
            "           2       0.85      0.71      0.78    321533\n",
            "\n",
            "    accuracy                           0.75    920445\n",
            "   macro avg       0.74      0.73      0.73    920445\n",
            "weighted avg       0.76      0.75      0.75    920445\n",
            "\n",
            "--------------------------------------------------\n",
            "Model: Naive Bayes\n",
            "Accuracy: 0.4985707999934814\n",
            "Classification Report:\n",
            "              precision    recall  f1-score   support\n",
            "\n",
            "           0       0.47      1.00      0.64    399779\n",
            "           1       0.14      0.00      0.00    199133\n",
            "           2       0.82      0.19      0.31    321533\n",
            "\n",
            "    accuracy                           0.50    920445\n",
            "   macro avg       0.48      0.39      0.32    920445\n",
            "weighted avg       0.52      0.50      0.38    920445\n",
            "\n",
            "--------------------------------------------------\n",
            "Model: Logistic Regression\n"
          ]
        },
        {
          "output_type": "stream",
          "name": "stderr",
          "text": [
            "/usr/local/lib/python3.10/dist-packages/sklearn/linear_model/_logistic.py:469: ConvergenceWarning: lbfgs failed to converge (status=1):\n",
            "STOP: TOTAL NO. of ITERATIONS REACHED LIMIT.\n",
            "\n",
            "Increase the number of iterations (max_iter) or scale the data as shown in:\n",
            "    https://scikit-learn.org/stable/modules/preprocessing.html\n",
            "Please also refer to the documentation for alternative solver options:\n",
            "    https://scikit-learn.org/stable/modules/linear_model.html#logistic-regression\n",
            "  n_iter_i = _check_optimize_result(\n"
          ]
        },
        {
          "output_type": "stream",
          "name": "stdout",
          "text": [
            "Accuracy: 0.46298692480267695\n",
            "Classification Report:\n",
            "              precision    recall  f1-score   support\n",
            "\n",
            "           0       0.59      0.32      0.41    399779\n",
            "           1       0.29      0.17      0.22    199133\n",
            "           2       0.45      0.82      0.58    321533\n",
            "\n",
            "    accuracy                           0.46    920445\n",
            "   macro avg       0.44      0.44      0.40    920445\n",
            "weighted avg       0.48      0.46      0.43    920445\n",
            "\n",
            "--------------------------------------------------\n"
          ]
        }
      ]
    },
    {
      "cell_type": "code",
      "source": [],
      "metadata": {
        "id": "mJWEJpqumQ6j"
      },
      "execution_count": null,
      "outputs": []
    }
  ]
}